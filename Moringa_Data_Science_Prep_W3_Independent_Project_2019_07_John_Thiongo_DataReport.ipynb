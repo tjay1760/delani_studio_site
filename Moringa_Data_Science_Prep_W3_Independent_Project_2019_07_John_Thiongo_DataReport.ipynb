{
  "nbformat": 4,
  "nbformat_minor": 0,
  "metadata": {
    "colab": {
      "name": "Moringa_Data_Science_Prep_W3_Independent_Project_2019_07_John_Thiongo_DataReport",
      "provenance": [],
      "toc_visible": true,
      "authorship_tag": "ABX9TyMclW7fxBHTk9v2UquGHLXM",
      "include_colab_link": true
    },
    "kernelspec": {
      "name": "python3",
      "display_name": "Python 3"
    }
  },
  "cells": [
    {
      "cell_type": "markdown",
      "metadata": {
        "id": "view-in-github",
        "colab_type": "text"
      },
      "source": [
        "<a href=\"https://colab.research.google.com/github/tjay1760/delani_studio_site/blob/master/Moringa_Data_Science_Prep_W3_Independent_Project_2019_07_John_Thiongo_DataReport.ipynb\" target=\"_parent\"><img src=\"https://colab.research.google.com/assets/colab-badge.svg\" alt=\"Open In Colab\"/></a>"
      ]
    },
    {
      "cell_type": "code",
      "metadata": {
        "id": "XRQEnLqxPYDC",
        "colab_type": "code",
        "colab": {}
      },
      "source": [
        "import pandas as pd\n",
        "import numpy as np    \n"
      ],
      "execution_count": 0,
      "outputs": []
    },
    {
      "cell_type": "code",
      "metadata": {
        "id": "zIGH43jTLEIL",
        "colab_type": "code",
        "colab": {}
      },
      "source": [
        "\n",
        "geo_names =[\";VILLES;STATUS;LOCALISATION;DECOUPZONE;ZONENAME;LONGITUDE;LATITUDE;REGION;AREA;CELL_ID;SITE_CODE\"] \n",
        "geo_names_list = [elem.strip().split(';') for elem in geo_names]\n",
        "geo_names_list"
      ],
      "execution_count": 0,
      "outputs": []
    },
    {
      "cell_type": "code",
      "metadata": {
        "id": "cLXeSwi4HfbE",
        "colab_type": "code",
        "colab": {}
      },
      "source": [
        "#loading files\n",
        "CDR_desc = pd.read_excel(\"/content/CDR_description.xlsx\")\n",
        "Geo_desc = pd.read_excel(\"/content/cells_geo_description.xlsx\")\n",
        "Geo = pd.read_csv(\"/content/cells_geo.csv\")\n",
        "Telcom1 = pd.read_csv(\"/content/Telcom_dataset.csv\")\n",
        "Telcom2 = pd.read_csv(\"/content/Telcom_dataset2.csv\")\n",
        "Telcom3 = pd.read_csv(\"/content/Telcom_dataset3.csv\")"
      ],
      "execution_count": 0,
      "outputs": []
    },
    {
      "cell_type": "code",
      "metadata": {
        "id": "iEPr57p7Skc5",
        "colab_type": "code",
        "colab": {}
      },
      "source": [
        "geodf=Geo[\";VILLES;STATUS;LOCALISATION;DECOUPZONE;ZONENAME;LONGITUDE;LATITUDE;REGION;AREA;CELL_ID;SITE_CODE\"].apply(lambda x: pd.Series([i for i in (x.lower().split(';'))]))\n",
        "geodf.columns = geo_names_list\n",
        "geodf.head(3)"
      ],
      "execution_count": 0,
      "outputs": []
    },
    {
      "cell_type": "code",
      "metadata": {
        "id": "qzjdc7EZWE4c",
        "colab_type": "code",
        "colab": {}
      },
      "source": [
        "geodf.dtypes\n",
        "geodf.LOCALISATION.astype(str)"
      ],
      "execution_count": 0,
      "outputs": []
    },
    {
      "cell_type": "code",
      "metadata": {
        "id": "0A_rGzozbvJQ",
        "colab_type": "code",
        "colab": {}
      },
      "source": [
        "Telcom1.dtypes\n",
        "Telcom1."
      ],
      "execution_count": 0,
      "outputs": []
    },
    {
      "cell_type": "code",
      "metadata": {
        "id": "Whscfy8Lb3YH",
        "colab_type": "code",
        "colab": {}
      },
      "source": [
        ""
      ],
      "execution_count": 0,
      "outputs": []
    }
  ]
}